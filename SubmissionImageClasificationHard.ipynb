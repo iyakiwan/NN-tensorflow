{
  "nbformat": 4,
  "nbformat_minor": 0,
  "metadata": {
    "colab": {
      "name": "SubmissionFinal",
      "provenance": [],
      "collapsed_sections": [],
      "toc_visible": true,
      "authorship_tag": "ABX9TyP7lZiLpI0rLUkuQrb3esGY",
      "include_colab_link": true
    },
    "kernelspec": {
      "name": "python3",
      "display_name": "Python 3"
    },
    "accelerator": "GPU"
  },
  "cells": [
    {
      "cell_type": "markdown",
      "metadata": {
        "id": "view-in-github",
        "colab_type": "text"
      },
      "source": [
        "<a href=\"https://colab.research.google.com/github/iyakiwan/NN-tensorflow/blob/master/SubmissionImageClasificationHard.ipynb\" target=\"_parent\"><img src=\"https://colab.research.google.com/assets/colab-badge.svg\" alt=\"Open In Colab\"/></a>"
      ]
    },
    {
      "cell_type": "markdown",
      "metadata": {
        "id": "Pf1Cyv5ZfN-z",
        "colab_type": "text"
      },
      "source": [
        "# **Dataset Intel Image Classification**\n",
        "Link Dataset : https://www.kaggle.com/puneet6060/intel-image-classification/version/2\n",
        "\n",
        "\n",
        "##Penjelasan Dataset\n",
        "* Dataset ini merupakan kumpulan data gambar Pemandangan Alam di seluruh dunia.\n",
        "* Data ini berisi sekitar 25k gambar berukuran 150x150 yang didistribusikan dalam 6 kategori. Diantaranya: {'buildings' -> 0, 'forest' -> 1, 'glacier' -> 2, 'mountain' -> 3, 'sea' -> 4, 'street' -> 5 }\n",
        "* Terdapat Data Train, Test, dan Predicion yang dipisahkan di setiap Folder. Ada sekitar 14k gambar di Train, 3k di Test dan 7k di Prediction.\n",
        "\n"
      ]
    },
    {
      "cell_type": "code",
      "metadata": {
        "id": "vh0B0jtpEXjO",
        "colab_type": "code",
        "colab": {}
      },
      "source": [
        "#Konfigurasi untung mendapatkan dataset dari kaggle\n",
        "import os\n",
        "os.environ['KAGGLE_USERNAME'] = \"muftialiesatriawan\"\n",
        "os.environ['KAGGLE_KEY'] = \"8758290ff1b48af9eb9f56be8b3445c5\""
      ],
      "execution_count": null,
      "outputs": []
    },
    {
      "cell_type": "code",
      "metadata": {
        "id": "b0VY_d2pffQh",
        "colab_type": "code",
        "colab": {
          "base_uri": "https://localhost:8080/",
          "height": 68
        },
        "outputId": "86811c08-1999-43ba-d3fb-44819bd6ca23"
      },
      "source": [
        "#Download dataset\n",
        "!kaggle datasets download -d puneet6060/intel-image-classification/version/2"
      ],
      "execution_count": null,
      "outputs": [
        {
          "output_type": "stream",
          "text": [
            "Downloading intel-image-classification.zip to /content\n",
            "100% 346M/346M [00:13<00:00, 40.3MB/s]\n",
            "100% 346M/346M [00:13<00:00, 26.6MB/s]\n"
          ],
          "name": "stdout"
        }
      ]
    },
    {
      "cell_type": "code",
      "metadata": {
        "id": "E_RTaZiZgVAE",
        "colab_type": "code",
        "colab": {}
      },
      "source": [
        "#Unzip dataset\n",
        "!unzip -q intel-image-classification.zip -d ."
      ],
      "execution_count": null,
      "outputs": []
    },
    {
      "cell_type": "markdown",
      "metadata": {
        "id": "naa8CxIZhP0Y",
        "colab_type": "text"
      },
      "source": [
        "##Prepossessing"
      ]
    },
    {
      "cell_type": "code",
      "metadata": {
        "id": "k3NM3Oj9geE-",
        "colab_type": "code",
        "colab": {}
      },
      "source": [
        "#Import Libary yang di perlukan\n",
        "import tensorflow as tf\n",
        "from tensorflow.keras.optimizers import RMSprop\n",
        "from tensorflow.keras.preprocessing.image import ImageDataGenerator\n",
        "import zipfile"
      ],
      "execution_count": null,
      "outputs": []
    },
    {
      "cell_type": "code",
      "metadata": {
        "id": "B-SJuKMqjR-g",
        "colab_type": "code",
        "colab": {
          "base_uri": "https://localhost:8080/",
          "height": 105
        },
        "outputId": "f0b777de-4aee-4273-8f89-e17f6cf8c1a2"
      },
      "source": [
        "pip install split-folders"
      ],
      "execution_count": null,
      "outputs": [
        {
          "output_type": "stream",
          "text": [
            "Collecting split-folders\n",
            "  Downloading https://files.pythonhosted.org/packages/d1/4b/7b282b0f9319189d71e803220748929b37d019b67b1782d14c59cb1bd940/split_folders-0.4.2-py3-none-any.whl\n",
            "Installing collected packages: split-folders\n",
            "Successfully installed split-folders-0.4.2\n"
          ],
          "name": "stdout"
        }
      ]
    },
    {
      "cell_type": "code",
      "metadata": {
        "id": "NY0fJrRojXwB",
        "colab_type": "code",
        "colab": {
          "base_uri": "https://localhost:8080/",
          "height": 34
        },
        "outputId": "4a37d5ee-0a75-4d22-ccce-901ef2ae4aa3"
      },
      "source": [
        "#membagi dataset menjadi train set dan validation set\n",
        "import splitfolders\n",
        "\n",
        "splitfolders.ratio('/content/seg_train/seg_train', output=\"/content/model/data\", seed=1337, ratio=(.8, .2))"
      ],
      "execution_count": null,
      "outputs": [
        {
          "output_type": "stream",
          "text": [
            "Copying files: 14034 files [00:02, 4801.98 files/s]\n"
          ],
          "name": "stderr"
        }
      ]
    },
    {
      "cell_type": "code",
      "metadata": {
        "id": "9yzFpAzRj7iA",
        "colab_type": "code",
        "colab": {}
      },
      "source": [
        "#Membuat variabel untuk train set dan validation set\n",
        "base_dir = '/content/model/data'\n",
        "train_dir = os.path.join(base_dir, 'train')\n",
        "validation_dir = os.path.join(base_dir, 'val')"
      ],
      "execution_count": null,
      "outputs": []
    },
    {
      "cell_type": "code",
      "metadata": {
        "id": "JXu4CECrl8I4",
        "colab_type": "code",
        "colab": {
          "base_uri": "https://localhost:8080/",
          "height": 34
        },
        "outputId": "5a72a1d8-b379-4519-b62b-dcb63a7b1262"
      },
      "source": [
        "#mengecek isi dari folder train\n",
        "os.listdir(train_dir)"
      ],
      "execution_count": null,
      "outputs": [
        {
          "output_type": "execute_result",
          "data": {
            "text/plain": [
              "['mountain', 'forest', 'street', 'glacier', 'buildings', 'sea']"
            ]
          },
          "metadata": {
            "tags": []
          },
          "execution_count": 8
        }
      ]
    },
    {
      "cell_type": "code",
      "metadata": {
        "id": "h9F62egAmEDf",
        "colab_type": "code",
        "colab": {
          "base_uri": "https://localhost:8080/",
          "height": 34
        },
        "outputId": "3470d00e-3a28-472b-eff0-b0871d43accc"
      },
      "source": [
        "#mengecek isi dari folder validation\n",
        "os.listdir(validation_dir)"
      ],
      "execution_count": null,
      "outputs": [
        {
          "output_type": "execute_result",
          "data": {
            "text/plain": [
              "['mountain', 'forest', 'street', 'glacier', 'buildings', 'sea']"
            ]
          },
          "metadata": {
            "tags": []
          },
          "execution_count": 9
        }
      ]
    },
    {
      "cell_type": "markdown",
      "metadata": {
        "id": "sSyQuFAsgvrZ",
        "colab_type": "text"
      },
      "source": [
        "##Modelling dan Train Data"
      ]
    },
    {
      "cell_type": "code",
      "metadata": {
        "id": "gh4AUPZImGE-",
        "colab_type": "code",
        "colab": {}
      },
      "source": [
        "#Augmentasi gambar menggunakan image data generator\n",
        "datagen = ImageDataGenerator(\n",
        "                    rescale = 1./255,\n",
        "                    shear_range=0.2,\n",
        "                    zoom_range=0.2,\n",
        "                    horizontal_flip=True,\n",
        "                    fill_mode = 'nearest')"
      ],
      "execution_count": null,
      "outputs": []
    },
    {
      "cell_type": "code",
      "metadata": {
        "id": "Xkb8zf1xmzBF",
        "colab_type": "code",
        "colab": {
          "base_uri": "https://localhost:8080/",
          "height": 51
        },
        "outputId": "c906b953-9907-42e5-ff1e-394d72825d2b"
      },
      "source": [
        "#Membuat persiapan data berdasarkan direktori yang mana atribut berada di dalam folder dan labelnya di tentukan pada bungsi clasess\n",
        "train_generator = datagen.flow_from_directory(\n",
        "        train_dir,\n",
        "        target_size=(150, 150),\n",
        "        classes = [\"buildings\",\"forest\",\"glacier\",\"mountain\",\"sea\",\"street\"],\n",
        "        batch_size=32,\n",
        "        class_mode='categorical')\n",
        " \n",
        "validation_generator = datagen.flow_from_directory(\n",
        "        validation_dir,\n",
        "        target_size=(150, 150), \n",
        "        classes = [\"buildings\",\"forest\",\"glacier\",\"mountain\",\"sea\",\"street\"],\n",
        "        batch_size=32, \n",
        "        class_mode='categorical')"
      ],
      "execution_count": null,
      "outputs": [
        {
          "output_type": "stream",
          "text": [
            "Found 11224 images belonging to 6 classes.\n",
            "Found 2810 images belonging to 6 classes.\n"
          ],
          "name": "stdout"
        }
      ]
    },
    {
      "cell_type": "code",
      "metadata": {
        "id": "hYppLQJVnBD1",
        "colab_type": "code",
        "colab": {}
      },
      "source": [
        "#Membuat model sequential\n",
        "model = tf.keras.models.Sequential([\n",
        "    tf.keras.layers.Conv2D(32, (3,3), activation='relu', input_shape=(150, 150, 3)),\n",
        "    tf.keras.layers.MaxPooling2D(2,2),\n",
        "    tf.keras.layers.Conv2D(64, (3,3), activation='relu'),\n",
        "    tf.keras.layers.MaxPooling2D(2,2),\n",
        "    tf.keras.layers.Conv2D(128, (3,3), activation='relu'),\n",
        "    tf.keras.layers.MaxPooling2D(2,2),\n",
        "    tf.keras.layers.Conv2D(128, (3,3), activation='relu'),\n",
        "    tf.keras.layers.MaxPooling2D(2,2),\n",
        "    tf.keras.layers.Flatten(),\n",
        "    tf.keras.layers.Dense(256, activation='relu'),\n",
        "    tf.keras.layers.Dropout(0.25),\n",
        "    tf.keras.layers.Dense(512, activation='relu'),\n",
        "    tf.keras.layers.Dropout(0.25),\n",
        "    tf.keras.layers.Dense(6, activation='softmax')\n",
        "])"
      ],
      "execution_count": null,
      "outputs": []
    },
    {
      "cell_type": "code",
      "metadata": {
        "id": "zQPa_H8etpnm",
        "colab_type": "code",
        "colab": {
          "base_uri": "https://localhost:8080/",
          "height": 629
        },
        "outputId": "2b1381b0-2eab-4433-bca6-d8d27dd1ad67"
      },
      "source": [
        "#Melihat total params berdasarkan model yang dibuat\n",
        "model.summary()"
      ],
      "execution_count": null,
      "outputs": [
        {
          "output_type": "stream",
          "text": [
            "Model: \"sequential\"\n",
            "_________________________________________________________________\n",
            "Layer (type)                 Output Shape              Param #   \n",
            "=================================================================\n",
            "conv2d (Conv2D)              (None, 148, 148, 32)      896       \n",
            "_________________________________________________________________\n",
            "max_pooling2d (MaxPooling2D) (None, 74, 74, 32)        0         \n",
            "_________________________________________________________________\n",
            "conv2d_1 (Conv2D)            (None, 72, 72, 64)        18496     \n",
            "_________________________________________________________________\n",
            "max_pooling2d_1 (MaxPooling2 (None, 36, 36, 64)        0         \n",
            "_________________________________________________________________\n",
            "conv2d_2 (Conv2D)            (None, 34, 34, 128)       73856     \n",
            "_________________________________________________________________\n",
            "max_pooling2d_2 (MaxPooling2 (None, 17, 17, 128)       0         \n",
            "_________________________________________________________________\n",
            "conv2d_3 (Conv2D)            (None, 15, 15, 128)       147584    \n",
            "_________________________________________________________________\n",
            "max_pooling2d_3 (MaxPooling2 (None, 7, 7, 128)         0         \n",
            "_________________________________________________________________\n",
            "flatten (Flatten)            (None, 6272)              0         \n",
            "_________________________________________________________________\n",
            "dense (Dense)                (None, 256)               1605888   \n",
            "_________________________________________________________________\n",
            "dropout (Dropout)            (None, 256)               0         \n",
            "_________________________________________________________________\n",
            "dense_1 (Dense)              (None, 512)               131584    \n",
            "_________________________________________________________________\n",
            "dropout_1 (Dropout)          (None, 512)               0         \n",
            "_________________________________________________________________\n",
            "dense_2 (Dense)              (None, 6)                 3078      \n",
            "=================================================================\n",
            "Total params: 1,981,382\n",
            "Trainable params: 1,981,382\n",
            "Non-trainable params: 0\n",
            "_________________________________________________________________\n"
          ],
          "name": "stdout"
        }
      ]
    },
    {
      "cell_type": "code",
      "metadata": {
        "id": "ufcK8AJonNms",
        "colab_type": "code",
        "colab": {}
      },
      "source": [
        "#menetukan loss function serta optimizer \n",
        "model.compile(loss='categorical_crossentropy',\n",
        "              optimizer=tf.optimizers.Adam(),\n",
        "              metrics=['accuracy'])"
      ],
      "execution_count": null,
      "outputs": []
    },
    {
      "cell_type": "code",
      "metadata": {
        "id": "GoeDGrJknQDL",
        "colab_type": "code",
        "colab": {}
      },
      "source": [
        "#membuat callback dari class myCallback\n",
        "class myCallback(tf.keras.callbacks.Callback):\n",
        "  def on_epoch_end(self, epoch, logs={}):\n",
        "    if(logs.get('accuracy')>0.85 and logs.get('val_accuracy')>0.85):\n",
        "      print(\"\\nAkurasi telah mencapai >85%!\")\n",
        "      self.model.stop_training = True\n",
        "callbacks = myCallback()"
      ],
      "execution_count": null,
      "outputs": []
    },
    {
      "cell_type": "code",
      "metadata": {
        "id": "dZndap72ng5h",
        "colab_type": "code",
        "colab": {
          "base_uri": "https://localhost:8080/",
          "height": 581
        },
        "outputId": "bd17a5bd-cfe3-4d7b-b812-aabd5b780f5a"
      },
      "source": [
        "#pelatihan model dengan 25 step dengan data train dan data validation nya\n",
        "history = model.fit(\n",
        "    train_generator, \n",
        "    epochs=25,\n",
        "    batch_size = 32,\n",
        "    callbacks=[callbacks],\n",
        "    validation_data=validation_generator)"
      ],
      "execution_count": null,
      "outputs": [
        {
          "output_type": "stream",
          "text": [
            "Epoch 1/25\n",
            "351/351 [==============================] - 93s 266ms/step - loss: 1.1382 - accuracy: 0.5388 - val_loss: 1.0069 - val_accuracy: 0.6320\n",
            "Epoch 2/25\n",
            "351/351 [==============================] - 93s 264ms/step - loss: 0.8611 - accuracy: 0.6753 - val_loss: 0.8907 - val_accuracy: 0.6648\n",
            "Epoch 3/25\n",
            "351/351 [==============================] - 92s 263ms/step - loss: 0.7053 - accuracy: 0.7427 - val_loss: 0.7177 - val_accuracy: 0.7431\n",
            "Epoch 4/25\n",
            "351/351 [==============================] - 92s 262ms/step - loss: 0.6329 - accuracy: 0.7738 - val_loss: 0.6760 - val_accuracy: 0.7580\n",
            "Epoch 5/25\n",
            "351/351 [==============================] - 92s 261ms/step - loss: 0.5745 - accuracy: 0.7925 - val_loss: 0.5620 - val_accuracy: 0.8007\n",
            "Epoch 6/25\n",
            "351/351 [==============================] - 91s 260ms/step - loss: 0.5282 - accuracy: 0.8079 - val_loss: 0.6315 - val_accuracy: 0.7662\n",
            "Epoch 7/25\n",
            "351/351 [==============================] - 91s 259ms/step - loss: 0.4855 - accuracy: 0.8257 - val_loss: 0.4944 - val_accuracy: 0.8238\n",
            "Epoch 8/25\n",
            "351/351 [==============================] - 91s 259ms/step - loss: 0.4600 - accuracy: 0.8370 - val_loss: 0.5163 - val_accuracy: 0.8167\n",
            "Epoch 9/25\n",
            "351/351 [==============================] - 91s 258ms/step - loss: 0.4304 - accuracy: 0.8452 - val_loss: 0.4621 - val_accuracy: 0.8399\n",
            "Epoch 10/25\n",
            "351/351 [==============================] - 90s 256ms/step - loss: 0.4153 - accuracy: 0.8541 - val_loss: 0.5085 - val_accuracy: 0.8189\n",
            "Epoch 11/25\n",
            "351/351 [==============================] - 91s 258ms/step - loss: 0.4013 - accuracy: 0.8564 - val_loss: 0.4845 - val_accuracy: 0.8391\n",
            "Epoch 12/25\n",
            "351/351 [==============================] - 90s 257ms/step - loss: 0.3714 - accuracy: 0.8685 - val_loss: 0.4539 - val_accuracy: 0.8495\n",
            "Epoch 13/25\n",
            "351/351 [==============================] - 89s 255ms/step - loss: 0.3486 - accuracy: 0.8726 - val_loss: 0.4698 - val_accuracy: 0.8317\n",
            "Epoch 14/25\n",
            "351/351 [==============================] - 90s 255ms/step - loss: 0.3320 - accuracy: 0.8794 - val_loss: 0.5012 - val_accuracy: 0.8356\n",
            "Epoch 15/25\n",
            "351/351 [==============================] - ETA: 0s - loss: 0.3295 - accuracy: 0.8824\n",
            "Akurasi telah mencapai >85%!\n",
            "351/351 [==============================] - 89s 255ms/step - loss: 0.3295 - accuracy: 0.8824 - val_loss: 0.4374 - val_accuracy: 0.8541\n"
          ],
          "name": "stdout"
        }
      ]
    },
    {
      "cell_type": "code",
      "metadata": {
        "id": "VrZAaBlInpdK",
        "colab_type": "code",
        "colab": {
          "base_uri": "https://localhost:8080/",
          "height": 499
        },
        "outputId": "7444c69b-8885-478b-af39-0e78e6fc648e"
      },
      "source": [
        "#Melihat grafik dari actuasi train dan val serta lossnya menggunakan libary matplotlib.pyplot\n",
        "import matplotlib.pyplot as plt\n",
        "epochs = len(history.history['loss'])\n",
        "\n",
        "acc = history.history['accuracy']\n",
        "val_acc = history.history['val_accuracy']\n",
        "\n",
        "loss = history.history['loss']\n",
        "val_loss = history.history['val_loss']\n",
        "\n",
        "epochs_range = range(epochs)\n",
        "\n",
        "plt.figure(figsize=(8, 8))\n",
        "plt.subplot(1, 2, 1)\n",
        "plt.plot(epochs_range, acc, label='Training Accuracy')\n",
        "plt.plot(epochs_range, val_acc, label='Validation Accuracy')\n",
        "plt.legend(loc='lower right')\n",
        "plt.title('Training and Validation Accuracy')\n",
        "\n",
        "plt.subplot(1, 2, 2)\n",
        "plt.plot(epochs_range, loss, label='Training Loss')\n",
        "plt.plot(epochs_range, val_loss, label='Validation Loss')\n",
        "plt.legend(loc='upper right')\n",
        "plt.title('Training and Validation Loss')\n",
        "plt.show()"
      ],
      "execution_count": null,
      "outputs": [
        {
          "output_type": "display_data",
          "data": {
            "image/png": "[encoded data removed]",
            "text/plain": [
              "<Figure size 576x576 with 2 Axes>"
            ]
          },
          "metadata": {
            "tags": [],
            "needs_background": "light"
          }
        }
      ]
    },
    {
      "cell_type": "markdown",
      "metadata": {
        "id": "byEtAR7qhLri",
        "colab_type": "text"
      },
      "source": [
        "##Konfersi Model"
      ]
    },
    {
      "cell_type": "code",
      "metadata": {
        "id": "m8Fukwkfcow-",
        "colab_type": "code",
        "colab": {
          "base_uri": "https://localhost:8080/",
          "height": 156
        },
        "outputId": "118fd401-4d9f-495f-e040-c0c1f9c5acbf"
      },
      "source": [
        "#Konfersi model menjadi model TF-Lite.\n",
        "converter = tf.lite.TFLiteConverter.from_keras_model(model)\n",
        "tflite_model = converter.convert()"
      ],
      "execution_count": null,
      "outputs": [
        {
          "output_type": "stream",
          "text": [
            "WARNING:tensorflow:From /usr/local/lib/python3.6/dist-packages/tensorflow/python/training/tracking/tracking.py:111: Model.state_updates (from tensorflow.python.keras.engine.training) is deprecated and will be removed in a future version.\n",
            "Instructions for updating:\n",
            "This property should not be used in TensorFlow 2.0, as updates are applied automatically.\n",
            "WARNING:tensorflow:From /usr/local/lib/python3.6/dist-packages/tensorflow/python/training/tracking/tracking.py:111: Layer.updates (from tensorflow.python.keras.engine.base_layer) is deprecated and will be removed in a future version.\n",
            "Instructions for updating:\n",
            "This property should not be used in TensorFlow 2.0, as updates are applied automatically.\n",
            "INFO:tensorflow:Assets written to: /tmp/tmp0kenvg4r/assets\n"
          ],
          "name": "stdout"
        }
      ]
    },
    {
      "cell_type": "code",
      "metadata": {
        "id": "D0KNH325dCKd",
        "colab_type": "code",
        "colab": {}
      },
      "source": [
        "#Menyimpan model dengan format .tflite\n",
        "with tf.io.gfile.GFile('model.tflite', 'wb') as f:\n",
        "  f.write(tflite_model)"
      ],
      "execution_count": null,
      "outputs": []
    }
  ]
}